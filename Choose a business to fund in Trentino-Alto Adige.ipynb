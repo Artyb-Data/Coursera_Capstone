{
 "cells": [
  {
   "cell_type": "markdown",
   "metadata": {},
   "source": [
    "# Choose a business to fund in Trentino-Alto Adige"
   ]
  },
  {
   "cell_type": "markdown",
   "metadata": {},
   "source": [
    "### Introduction"
   ]
  },
  {
   "cell_type": "markdown",
   "metadata": {},
   "source": [
    "A random investor wants to fund a business in Northern Italy, Trentino-Alto Adige. \n",
    "He is somewhat interested in Alpine region and hotel business. Soon he faces **the problem: the area consists of small towns sparse** in Alps. He realises that it is a complicated task to choose a location and a precise type of business. So he hires a Data science specialist to produce an insight to this problem."
   ]
  },
  {
   "cell_type": "markdown",
   "metadata": {},
   "source": [
    "### Area of interest"
   ]
  },
  {
   "cell_type": "markdown",
   "metadata": {},
   "source": [
    "![](first_glance_map.png)"
   ]
  },
  {
   "cell_type": "markdown",
   "metadata": {},
   "source": [
    "____________________________"
   ]
  },
  {
   "cell_type": "markdown",
   "metadata": {},
   "source": [
    "# Data"
   ]
  },
  {
   "cell_type": "markdown",
   "metadata": {},
   "source": [
    "We will be using:\n",
    "- **Google**\n",
    "    - coordinates of towns, \n",
    "    - population,\n",
    "    - finding a local government website"
   ]
  },
  {
   "cell_type": "markdown",
   "metadata": {},
   "source": [
    "- **Foursquare**\n",
    "    - coordinates of venues \n",
    "    - categories of venues"
   ]
  },
  {
   "cell_type": "markdown",
   "metadata": {},
   "source": [
    "![](Coordinates.png)"
   ]
  },
  {
   "cell_type": "markdown",
   "metadata": {},
   "source": [
    "- **Official statistics** from [local government website](https://astat.provincia.bz.it/it/banche-dati-comunali.asp):\n",
    "    - for in-depth insight in touristic flows in region.\n",
    "![](Visitors.png)"
   ]
  },
  {
   "cell_type": "markdown",
   "metadata": {},
   "source": [
    "For Foursquare there are some additional requirements: one needs to have own account to be able to run and copy the code. \n",
    "Official statistics are given in tables on the government website. Everything is **downloadable in XLS.** For the scope of this project all downloads are **available in repository.**"
   ]
  },
  {
   "cell_type": "markdown",
   "metadata": {},
   "source": [
    "____________"
   ]
  },
  {
   "cell_type": "markdown",
   "metadata": {},
   "source": [
    "# Methodology"
   ]
  },
  {
   "cell_type": "markdown",
   "metadata": {},
   "source": [
    "## Data analysis:\n",
    "- **Visualize Foursquare venues on the map**\n",
    "- **Visualize official statistics**\n",
    "    - Convert XLS to dataframes and graph\n",
    "    - Introduce corrective coefficients for better visual perception:\n",
    "        - For two towns that share statistical data\n",
    "        - For all towns based on population \n",
    "    - Pair and merge dataframes and graph\n",
    "- **Take notes on the insights**\n",
    "- **Create a global dataframe from official statistics**"
   ]
  },
  {
   "cell_type": "markdown",
   "metadata": {},
   "source": [
    "![](Hotel_preference.png)"
   ]
  },
  {
   "cell_type": "markdown",
   "metadata": {},
   "source": [
    "![](Distribution_of_hotels.png)"
   ]
  },
  {
   "cell_type": "markdown",
   "metadata": {},
   "source": [
    "![](Bars.png)"
   ]
  },
  {
   "cell_type": "markdown",
   "metadata": {},
   "source": [
    "## Machine learning\n",
    "### Applied to *global dataframe* (official statistics)\n",
    "- Feature engineering\n",
    "    - Using **Pearson correlation heatmap** from global dataframe extract the most relevant features, as if the scenario would be building a 4-5 star hotel in the region. This part can be repeated for any other feature of the global dataframe\n",
    "![](Pearson.png)"
   ]
  },
  {
   "cell_type": "markdown",
   "metadata": {},
   "source": [
    "- Clustering\n",
    "    - Using **KMEANS** cluster the towns *based on global dataframe*\n",
    "    - Using **Unsupervised Agglomerative clustering** (ascending) cluster the towns of interest *based on global dataframe*\n",
    "    - Compare 2 clustering algorithms. They should produce cluster the towns in similar, or better - equal way.\n",
    "![](Clusters.png)"
   ]
  },
  {
   "cell_type": "markdown",
   "metadata": {},
   "source": [
    "### Applied to Foursquare venues dataframe\n",
    "- Clustering\n",
    "    - Using **KMEANS** cluster venues according to venue categories. Visualize cluster centers. It produces economy centroids for each town for each category of a venue.\n",
    "    - Using **KMEANS weighted clustering** cluster venues according to categories and weights, where each weight is given by ratio of *given category n_samples / all categories n_samples*. It produces weighted economy centroids for each town.\n",
    "    - Visualize resulting centroids and geographical centers of towns. Create a dataframe of **average** presence of category in town and **actual** percent of category presence. Show the result in Popup on centroids.\n",
    "![](Weighted.png)"
   ]
  },
  {
   "cell_type": "markdown",
   "metadata": {},
   "source": [
    "______"
   ]
  },
  {
   "cell_type": "markdown",
   "metadata": {},
   "source": [
    "# Results and discussion"
   ]
  },
  {
   "cell_type": "markdown",
   "metadata": {},
   "source": [
    "   **1) Based on official regional statistics it was possible to make a solid image of touristic  flux in the region, latest years trends, hotel industry and nationality preferences. There is a possibility to add a study of road traffic to this section because data is available on government website.** \n",
    "   \n",
    "   **Supposing that the goal was finding a place for a luxury hotel according to this analysis 2 candidate places out of 6 are selected.**\n",
    "    \n",
    "   **2) Based on registered venues on Foursquare and machine learning techniques it was possible to introduce a concept of \"economical centroid\" and \"weighted economical centroid\" in a given place. This information provides an insight on economy major constituents and disbalances of each centroid. This information allows to conclude what type of business is abundant or lacking in a selected area and make investment decisions.** \n",
    "   \n",
    "   **After this stage not only we can define a particular place for a luxury hotel (initial problem), but for any major category represented in Foursquare. We can argue profitability of the suggested initial search and provide numerical evidence for better solutions for investment.**\n",
    "    \n",
    "   **3) The second part of machine learning code can be reproduced for any other set of places in tandem with Foursquare data. We now have a readymade tool for similar requests worldwide.**"
   ]
  },
  {
   "cell_type": "markdown",
   "metadata": {},
   "source": [
    "![](Final.png)"
   ]
  },
  {
   "cell_type": "markdown",
   "metadata": {},
   "source": [
    "____"
   ]
  },
  {
   "cell_type": "markdown",
   "metadata": {},
   "source": [
    "# Conclusion"
   ]
  },
  {
   "cell_type": "markdown",
   "metadata": {},
   "source": [
    "**Wherever Foursquare data is present on the world map, a similar study can be implemented. The concept of *\"weighted economy centroid\"* is useful to help determine the geolocation of a new hypothetical venue with respect to geographical center of the area, and the most profitable direction in the area. Also *economy centroid* provides an insight of economical unbalance of the region. The more general conclusion is to try and find more economically unbalanced places and fill them with new venues. It's less profitable and more difficult to enter in a well-balanced area.**"
   ]
  }
 ],
 "metadata": {
  "kernelspec": {
   "display_name": "Python 3",
   "language": "python",
   "name": "python3"
  },
  "language_info": {
   "codemirror_mode": {
    "name": "ipython",
    "version": 3
   },
   "file_extension": ".py",
   "mimetype": "text/x-python",
   "name": "python",
   "nbconvert_exporter": "python",
   "pygments_lexer": "ipython3",
   "version": "3.7.4"
  }
 },
 "nbformat": 4,
 "nbformat_minor": 2
}
